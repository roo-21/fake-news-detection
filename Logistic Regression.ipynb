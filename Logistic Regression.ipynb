{
 "cells": [
  {
   "cell_type": "code",
   "execution_count": 1,
   "id": "560c2554",
   "metadata": {},
   "outputs": [],
   "source": [
    "import pandas as pd\n",
    "import numpy as np\n",
    "from sklearn.model_selection import train_test_split\n",
    "from sklearn.feature_extraction.text import TfidfVectorizer\n",
    "from sklearn.linear_model import LogisticRegression\n",
    "from sklearn.metrics import accuracy_score"
   ]
  },
  {
   "cell_type": "code",
   "execution_count": 2,
   "id": "85ad8e8e",
   "metadata": {},
   "outputs": [],
   "source": [
    "real=pd.read_csv('real.csv')"
   ]
  },
  {
   "cell_type": "code",
   "execution_count": 3,
   "id": "f6780023",
   "metadata": {},
   "outputs": [],
   "source": [
    "fake=pd.read_csv('fake.csv')"
   ]
  },
  {
   "cell_type": "code",
   "execution_count": 4,
   "id": "877e3c7e",
   "metadata": {},
   "outputs": [],
   "source": [
    "    real['real?']=1"
   ]
  },
  {
   "cell_type": "code",
   "execution_count": 5,
   "id": "baaf1c7a",
   "metadata": {},
   "outputs": [
    {
     "data": {
      "text/html": [
       "<div>\n",
       "<style scoped>\n",
       "    .dataframe tbody tr th:only-of-type {\n",
       "        vertical-align: middle;\n",
       "    }\n",
       "\n",
       "    .dataframe tbody tr th {\n",
       "        vertical-align: top;\n",
       "    }\n",
       "\n",
       "    .dataframe thead th {\n",
       "        text-align: right;\n",
       "    }\n",
       "</style>\n",
       "<table border=\"1\" class=\"dataframe\">\n",
       "  <thead>\n",
       "    <tr style=\"text-align: right;\">\n",
       "      <th></th>\n",
       "      <th>tweet</th>\n",
       "      <th>real?</th>\n",
       "    </tr>\n",
       "  </thead>\n",
       "  <tbody>\n",
       "    <tr>\n",
       "      <th>0</th>\n",
       "      <td>sun downs technical director: al-ahly respecte...</td>\n",
       "      <td>1</td>\n",
       "    </tr>\n",
       "    <tr>\n",
       "      <th>1</th>\n",
       "      <td>shawky gharib after the tie with enppi: our go...</td>\n",
       "      <td>1</td>\n",
       "    </tr>\n",
       "    <tr>\n",
       "      <th>2</th>\n",
       "      <td>egyptian sports news today, wednesday 1/25/202...</td>\n",
       "      <td>1</td>\n",
       "    </tr>\n",
       "    <tr>\n",
       "      <th>3</th>\n",
       "      <td>the main referees committee of the egyptian fo...</td>\n",
       "      <td>1</td>\n",
       "    </tr>\n",
       "    <tr>\n",
       "      <th>4</th>\n",
       "      <td>haji bari, the striker of the future team, is ...</td>\n",
       "      <td>1</td>\n",
       "    </tr>\n",
       "    <tr>\n",
       "      <th>...</th>\n",
       "      <td>...</td>\n",
       "      <td>...</td>\n",
       "    </tr>\n",
       "    <tr>\n",
       "      <th>21864</th>\n",
       "      <td>shawky gharib: we excluded 4 players from the ...</td>\n",
       "      <td>1</td>\n",
       "    </tr>\n",
       "    <tr>\n",
       "      <th>21865</th>\n",
       "      <td>dina musharraf resumes her career in the singa...</td>\n",
       "      <td>1</td>\n",
       "    </tr>\n",
       "    <tr>\n",
       "      <th>21866</th>\n",
       "      <td>indeed, al-ahly ended its agreement with ricar...</td>\n",
       "      <td>1</td>\n",
       "    </tr>\n",
       "    <tr>\n",
       "      <th>21867</th>\n",
       "      <td>hazem imam, the captain of zamalek, decided to...</td>\n",
       "      <td>1</td>\n",
       "    </tr>\n",
       "    <tr>\n",
       "      <th>21868</th>\n",
       "      <td>walid al-attar, executive director of the egyp...</td>\n",
       "      <td>1</td>\n",
       "    </tr>\n",
       "  </tbody>\n",
       "</table>\n",
       "<p>21869 rows × 2 columns</p>\n",
       "</div>"
      ],
      "text/plain": [
       "                                                   tweet  real?\n",
       "0      sun downs technical director: al-ahly respecte...      1\n",
       "1      shawky gharib after the tie with enppi: our go...      1\n",
       "2      egyptian sports news today, wednesday 1/25/202...      1\n",
       "3      the main referees committee of the egyptian fo...      1\n",
       "4      haji bari, the striker of the future team, is ...      1\n",
       "...                                                  ...    ...\n",
       "21864  shawky gharib: we excluded 4 players from the ...      1\n",
       "21865  dina musharraf resumes her career in the singa...      1\n",
       "21866  indeed, al-ahly ended its agreement with ricar...      1\n",
       "21867  hazem imam, the captain of zamalek, decided to...      1\n",
       "21868  walid al-attar, executive director of the egyp...      1\n",
       "\n",
       "[21869 rows x 2 columns]"
      ]
     },
     "execution_count": 5,
     "metadata": {},
     "output_type": "execute_result"
    }
   ],
   "source": [
    "real"
   ]
  },
  {
   "cell_type": "code",
   "execution_count": 6,
   "id": "60e6e757",
   "metadata": {},
   "outputs": [],
   "source": [
    "fake['real?']=0"
   ]
  },
  {
   "cell_type": "code",
   "execution_count": 7,
   "id": "93a843a6",
   "metadata": {},
   "outputs": [
    {
     "data": {
      "text/html": [
       "<div>\n",
       "<style scoped>\n",
       "    .dataframe tbody tr th:only-of-type {\n",
       "        vertical-align: middle;\n",
       "    }\n",
       "\n",
       "    .dataframe tbody tr th {\n",
       "        vertical-align: top;\n",
       "    }\n",
       "\n",
       "    .dataframe thead th {\n",
       "        text-align: right;\n",
       "    }\n",
       "</style>\n",
       "<table border=\"1\" class=\"dataframe\">\n",
       "  <thead>\n",
       "    <tr style=\"text-align: right;\">\n",
       "      <th></th>\n",
       "      <th>tweet</th>\n",
       "      <th>real?</th>\n",
       "    </tr>\n",
       "  </thead>\n",
       "  <tbody>\n",
       "    <tr>\n",
       "      <th>0</th>\n",
       "      <td>the tongue of his condition, now i saw things ...</td>\n",
       "      <td>0</td>\n",
       "    </tr>\n",
       "    <tr>\n",
       "      <th>1</th>\n",
       "      <td>by god the great, after i saw the derby of wyd...</td>\n",
       "      <td>0</td>\n",
       "    </tr>\n",
       "    <tr>\n",
       "      <th>2</th>\n",
       "      <td>believe in god, this zamalek fans are as good ...</td>\n",
       "      <td>0</td>\n",
       "    </tr>\n",
       "    <tr>\n",
       "      <th>3</th>\n",
       "      <td>the coach appeared in the media and told the t...</td>\n",
       "      <td>0</td>\n",
       "    </tr>\n",
       "    <tr>\n",
       "      <th>4</th>\n",
       "      <td>asno smito\\nwhoever knows her tells me a massa...</td>\n",
       "      <td>0</td>\n",
       "    </tr>\n",
       "    <tr>\n",
       "      <th>...</th>\n",
       "      <td>...</td>\n",
       "      <td>...</td>\n",
       "    </tr>\n",
       "    <tr>\n",
       "      <th>19994</th>\n",
       "      <td>by hitting the referee</td>\n",
       "      <td>0</td>\n",
       "    </tr>\n",
       "    <tr>\n",
       "      <th>19995</th>\n",
       "      <td>and instead of assassinating him.. they assass...</td>\n",
       "      <td>0</td>\n",
       "    </tr>\n",
       "    <tr>\n",
       "      <th>19996</th>\n",
       "      <td>honestly, the goalkeeper deal is not the best\\...</td>\n",
       "      <td>0</td>\n",
       "    </tr>\n",
       "    <tr>\n",
       "      <th>19997</th>\n",
       "      <td>haha goal and no bangura (:</td>\n",
       "      <td>0</td>\n",
       "    </tr>\n",
       "    <tr>\n",
       "      <th>19998</th>\n",
       "      <td>i swear by god almighty\\nmessi will not come t...</td>\n",
       "      <td>0</td>\n",
       "    </tr>\n",
       "  </tbody>\n",
       "</table>\n",
       "<p>19999 rows × 2 columns</p>\n",
       "</div>"
      ],
      "text/plain": [
       "                                                   tweet  real?\n",
       "0      the tongue of his condition, now i saw things ...      0\n",
       "1      by god the great, after i saw the derby of wyd...      0\n",
       "2      believe in god, this zamalek fans are as good ...      0\n",
       "3      the coach appeared in the media and told the t...      0\n",
       "4      asno smito\\nwhoever knows her tells me a massa...      0\n",
       "...                                                  ...    ...\n",
       "19994                             by hitting the referee      0\n",
       "19995  and instead of assassinating him.. they assass...      0\n",
       "19996  honestly, the goalkeeper deal is not the best\\...      0\n",
       "19997                        haha goal and no bangura (:      0\n",
       "19998  i swear by god almighty\\nmessi will not come t...      0\n",
       "\n",
       "[19999 rows x 2 columns]"
      ]
     },
     "execution_count": 7,
     "metadata": {},
     "output_type": "execute_result"
    }
   ],
   "source": [
    "fake"
   ]
  },
  {
   "cell_type": "code",
   "execution_count": 8,
   "id": "76d88b95",
   "metadata": {},
   "outputs": [],
   "source": [
    "df=pd.concat([real,fake],ignore_index=True).sample(frac=1)"
   ]
  },
  {
   "cell_type": "code",
   "execution_count": 9,
   "id": "d9deea7e",
   "metadata": {},
   "outputs": [
    {
     "data": {
      "text/html": [
       "<div>\n",
       "<style scoped>\n",
       "    .dataframe tbody tr th:only-of-type {\n",
       "        vertical-align: middle;\n",
       "    }\n",
       "\n",
       "    .dataframe tbody tr th {\n",
       "        vertical-align: top;\n",
       "    }\n",
       "\n",
       "    .dataframe thead th {\n",
       "        text-align: right;\n",
       "    }\n",
       "</style>\n",
       "<table border=\"1\" class=\"dataframe\">\n",
       "  <thead>\n",
       "    <tr style=\"text-align: right;\">\n",
       "      <th></th>\n",
       "      <th>tweet</th>\n",
       "      <th>real?</th>\n",
       "    </tr>\n",
       "  </thead>\n",
       "  <tbody>\n",
       "    <tr>\n",
       "      <th>6649</th>\n",
       "      <td>a comparison between the marketing value of za...</td>\n",
       "      <td>1</td>\n",
       "    </tr>\n",
       "    <tr>\n",
       "      <th>40847</th>\n",
       "      <td>if we win, then we won the most important matc...</td>\n",
       "      <td>0</td>\n",
       "    </tr>\n",
       "    <tr>\n",
       "      <th>36558</th>\n",
       "      <td>arbitration expert ahmed el shennawy\\nal-ahly'...</td>\n",
       "      <td>0</td>\n",
       "    </tr>\n",
       "    <tr>\n",
       "      <th>25763</th>\n",
       "      <td>_ al-nasr _ al-douri\\nbenalti for victory, th...</td>\n",
       "      <td>0</td>\n",
       "    </tr>\n",
       "    <tr>\n",
       "      <th>15387</th>\n",
       "      <td>the cameroonian tank, abu bakr, in zamalek, an...</td>\n",
       "      <td>1</td>\n",
       "    </tr>\n",
       "    <tr>\n",
       "      <th>...</th>\n",
       "      <td>...</td>\n",
       "      <td>...</td>\n",
       "    </tr>\n",
       "    <tr>\n",
       "      <th>5678</th>\n",
       "      <td>ashraf hakimi specializes in global goals in t...</td>\n",
       "      <td>1</td>\n",
       "    </tr>\n",
       "    <tr>\n",
       "      <th>6690</th>\n",
       "      <td>farouk jaafar .. abdullah al-saeed is the best...</td>\n",
       "      <td>1</td>\n",
       "    </tr>\n",
       "    <tr>\n",
       "      <th>36902</th>\n",
       "      <td>-hilal_abha the annual series has begun to can...</td>\n",
       "      <td>0</td>\n",
       "    </tr>\n",
       "    <tr>\n",
       "      <th>28558</th>\n",
       "      <td>schubert\\nal-ahly will pay an electric fine, b...</td>\n",
       "      <td>0</td>\n",
       "    </tr>\n",
       "    <tr>\n",
       "      <th>147</th>\n",
       "      <td>a source inside al-ahly club revealed the fact...</td>\n",
       "      <td>1</td>\n",
       "    </tr>\n",
       "  </tbody>\n",
       "</table>\n",
       "<p>41868 rows × 2 columns</p>\n",
       "</div>"
      ],
      "text/plain": [
       "                                                   tweet  real?\n",
       "6649   a comparison between the marketing value of za...      1\n",
       "40847  if we win, then we won the most important matc...      0\n",
       "36558  arbitration expert ahmed el shennawy\\nal-ahly'...      0\n",
       "25763   _ al-nasr _ al-douri\\nbenalti for victory, th...      0\n",
       "15387  the cameroonian tank, abu bakr, in zamalek, an...      1\n",
       "...                                                  ...    ...\n",
       "5678   ashraf hakimi specializes in global goals in t...      1\n",
       "6690   farouk jaafar .. abdullah al-saeed is the best...      1\n",
       "36902  -hilal_abha the annual series has begun to can...      0\n",
       "28558  schubert\\nal-ahly will pay an electric fine, b...      0\n",
       "147    a source inside al-ahly club revealed the fact...      1\n",
       "\n",
       "[41868 rows x 2 columns]"
      ]
     },
     "execution_count": 9,
     "metadata": {},
     "output_type": "execute_result"
    }
   ],
   "source": [
    "df"
   ]
  },
  {
   "cell_type": "code",
   "execution_count": 10,
   "id": "33730f9c",
   "metadata": {},
   "outputs": [
    {
     "data": {
      "text/plain": [
       "tweet    17\n",
       "real?     0\n",
       "dtype: int64"
      ]
     },
     "execution_count": 10,
     "metadata": {},
     "output_type": "execute_result"
    }
   ],
   "source": [
    "df.isnull().sum()"
   ]
  },
  {
   "cell_type": "code",
   "execution_count": 11,
   "id": "c5b6f611",
   "metadata": {},
   "outputs": [],
   "source": [
    "df=df.dropna(how='any')"
   ]
  },
  {
   "cell_type": "code",
   "execution_count": 12,
   "id": "fc840f06",
   "metadata": {},
   "outputs": [],
   "source": [
    "x_train,x_test,y_train,y_test=train_test_split(df['tweet'],df['real?'],test_size=.2)"
   ]
  },
  {
   "cell_type": "code",
   "execution_count": 13,
   "id": "39800921",
   "metadata": {},
   "outputs": [],
   "source": [
    "vectorizer=TfidfVectorizer()\n",
    "x_train_vec=vectorizer.fit_transform(x_train)\n",
    "x_test_vec=vectorizer.transform(x_test)"
   ]
  },
  {
   "cell_type": "code",
   "execution_count": 14,
   "id": "0f547c8b",
   "metadata": {},
   "outputs": [
    {
     "data": {
      "text/plain": [
       "LogisticRegression()"
      ]
     },
     "execution_count": 14,
     "metadata": {},
     "output_type": "execute_result"
    }
   ],
   "source": [
    "model=LogisticRegression()\n",
    "model.fit(x_train_vec,y_train)"
   ]
  },
  {
   "cell_type": "code",
   "execution_count": 15,
   "id": "e3b470cd",
   "metadata": {},
   "outputs": [],
   "source": [
    "y_pred=model.predict(x_test_vec)"
   ]
  },
  {
   "cell_type": "code",
   "execution_count": 34,
   "id": "d5b4fea0",
   "metadata": {},
   "outputs": [
    {
     "name": "stdout",
     "output_type": "stream",
     "text": [
      "accuracy = 95.16%\n"
     ]
    }
   ],
   "source": [
    "print(\"accuracy = {:4.2f}%\".format(accuracy_score(y_test,y_pred)*100))"
   ]
  },
  {
   "cell_type": "code",
   "execution_count": null,
   "id": "a867ba16",
   "metadata": {},
   "outputs": [],
   "source": []
  }
 ],
 "metadata": {
  "kernelspec": {
   "display_name": "Python 3 (ipykernel)",
   "language": "python",
   "name": "python3"
  },
  "language_info": {
   "codemirror_mode": {
    "name": "ipython",
    "version": 3
   },
   "file_extension": ".py",
   "mimetype": "text/x-python",
   "name": "python",
   "nbconvert_exporter": "python",
   "pygments_lexer": "ipython3",
   "version": "3.9.13"
  }
 },
 "nbformat": 4,
 "nbformat_minor": 5
}
